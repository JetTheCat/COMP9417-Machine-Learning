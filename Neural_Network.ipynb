{
 "cells": [
  {
   "cell_type": "markdown",
   "metadata": {},
   "source": [
    "# Neural Networks"
   ]
  },
  {
   "cell_type": "code",
   "execution_count": 1,
   "metadata": {},
   "outputs": [
    {
     "data": {
      "text/html": [
       "<div>\n",
       "<style scoped>\n",
       "    .dataframe tbody tr th:only-of-type {\n",
       "        vertical-align: middle;\n",
       "    }\n",
       "\n",
       "    .dataframe tbody tr th {\n",
       "        vertical-align: top;\n",
       "    }\n",
       "\n",
       "    .dataframe thead th {\n",
       "        text-align: right;\n",
       "    }\n",
       "</style>\n",
       "<table border=\"1\" class=\"dataframe\">\n",
       "  <thead>\n",
       "    <tr style=\"text-align: right;\">\n",
       "      <th></th>\n",
       "      <th>id</th>\n",
       "      <th>feat_1</th>\n",
       "      <th>feat_2</th>\n",
       "      <th>feat_3</th>\n",
       "      <th>feat_4</th>\n",
       "      <th>feat_5</th>\n",
       "      <th>feat_6</th>\n",
       "      <th>feat_7</th>\n",
       "      <th>feat_8</th>\n",
       "      <th>feat_9</th>\n",
       "      <th>...</th>\n",
       "      <th>feat_85</th>\n",
       "      <th>feat_86</th>\n",
       "      <th>feat_87</th>\n",
       "      <th>feat_88</th>\n",
       "      <th>feat_89</th>\n",
       "      <th>feat_90</th>\n",
       "      <th>feat_91</th>\n",
       "      <th>feat_92</th>\n",
       "      <th>feat_93</th>\n",
       "      <th>target</th>\n",
       "    </tr>\n",
       "  </thead>\n",
       "  <tbody>\n",
       "    <tr>\n",
       "      <th>31468</th>\n",
       "      <td>31469</td>\n",
       "      <td>0</td>\n",
       "      <td>0</td>\n",
       "      <td>0</td>\n",
       "      <td>0</td>\n",
       "      <td>0</td>\n",
       "      <td>0</td>\n",
       "      <td>0</td>\n",
       "      <td>0</td>\n",
       "      <td>0</td>\n",
       "      <td>...</td>\n",
       "      <td>0</td>\n",
       "      <td>0</td>\n",
       "      <td>0</td>\n",
       "      <td>0</td>\n",
       "      <td>0</td>\n",
       "      <td>0</td>\n",
       "      <td>0</td>\n",
       "      <td>2</td>\n",
       "      <td>0</td>\n",
       "      <td>Class_5</td>\n",
       "    </tr>\n",
       "    <tr>\n",
       "      <th>36083</th>\n",
       "      <td>36084</td>\n",
       "      <td>0</td>\n",
       "      <td>0</td>\n",
       "      <td>15</td>\n",
       "      <td>10</td>\n",
       "      <td>0</td>\n",
       "      <td>0</td>\n",
       "      <td>0</td>\n",
       "      <td>0</td>\n",
       "      <td>0</td>\n",
       "      <td>...</td>\n",
       "      <td>1</td>\n",
       "      <td>0</td>\n",
       "      <td>0</td>\n",
       "      <td>0</td>\n",
       "      <td>2</td>\n",
       "      <td>0</td>\n",
       "      <td>0</td>\n",
       "      <td>1</td>\n",
       "      <td>0</td>\n",
       "      <td>Class_6</td>\n",
       "    </tr>\n",
       "    <tr>\n",
       "      <th>38510</th>\n",
       "      <td>38511</td>\n",
       "      <td>0</td>\n",
       "      <td>0</td>\n",
       "      <td>15</td>\n",
       "      <td>6</td>\n",
       "      <td>0</td>\n",
       "      <td>0</td>\n",
       "      <td>0</td>\n",
       "      <td>0</td>\n",
       "      <td>0</td>\n",
       "      <td>...</td>\n",
       "      <td>1</td>\n",
       "      <td>0</td>\n",
       "      <td>0</td>\n",
       "      <td>0</td>\n",
       "      <td>0</td>\n",
       "      <td>0</td>\n",
       "      <td>0</td>\n",
       "      <td>0</td>\n",
       "      <td>0</td>\n",
       "      <td>Class_6</td>\n",
       "    </tr>\n",
       "    <tr>\n",
       "      <th>49299</th>\n",
       "      <td>49300</td>\n",
       "      <td>0</td>\n",
       "      <td>0</td>\n",
       "      <td>0</td>\n",
       "      <td>1</td>\n",
       "      <td>0</td>\n",
       "      <td>0</td>\n",
       "      <td>0</td>\n",
       "      <td>2</td>\n",
       "      <td>2</td>\n",
       "      <td>...</td>\n",
       "      <td>0</td>\n",
       "      <td>1</td>\n",
       "      <td>0</td>\n",
       "      <td>0</td>\n",
       "      <td>1</td>\n",
       "      <td>0</td>\n",
       "      <td>0</td>\n",
       "      <td>5</td>\n",
       "      <td>0</td>\n",
       "      <td>Class_8</td>\n",
       "    </tr>\n",
       "    <tr>\n",
       "      <th>39546</th>\n",
       "      <td>39547</td>\n",
       "      <td>0</td>\n",
       "      <td>1</td>\n",
       "      <td>1</td>\n",
       "      <td>0</td>\n",
       "      <td>0</td>\n",
       "      <td>0</td>\n",
       "      <td>0</td>\n",
       "      <td>0</td>\n",
       "      <td>0</td>\n",
       "      <td>...</td>\n",
       "      <td>0</td>\n",
       "      <td>0</td>\n",
       "      <td>0</td>\n",
       "      <td>0</td>\n",
       "      <td>0</td>\n",
       "      <td>1</td>\n",
       "      <td>0</td>\n",
       "      <td>2</td>\n",
       "      <td>0</td>\n",
       "      <td>Class_6</td>\n",
       "    </tr>\n",
       "  </tbody>\n",
       "</table>\n",
       "<p>5 rows × 95 columns</p>\n",
       "</div>"
      ],
      "text/plain": [
       "          id  feat_1  feat_2  feat_3  feat_4  feat_5  feat_6  feat_7  feat_8  \\\n",
       "31468  31469       0       0       0       0       0       0       0       0   \n",
       "36083  36084       0       0      15      10       0       0       0       0   \n",
       "38510  38511       0       0      15       6       0       0       0       0   \n",
       "49299  49300       0       0       0       1       0       0       0       2   \n",
       "39546  39547       0       1       1       0       0       0       0       0   \n",
       "\n",
       "       feat_9  ...  feat_85  feat_86  feat_87  feat_88  feat_89  feat_90  \\\n",
       "31468       0  ...        0        0        0        0        0        0   \n",
       "36083       0  ...        1        0        0        0        2        0   \n",
       "38510       0  ...        1        0        0        0        0        0   \n",
       "49299       2  ...        0        1        0        0        1        0   \n",
       "39546       0  ...        0        0        0        0        0        1   \n",
       "\n",
       "       feat_91  feat_92  feat_93   target  \n",
       "31468        0        2        0  Class_5  \n",
       "36083        0        1        0  Class_6  \n",
       "38510        0        0        0  Class_6  \n",
       "49299        0        5        0  Class_8  \n",
       "39546        0        2        0  Class_6  \n",
       "\n",
       "[5 rows x 95 columns]"
      ]
     },
     "execution_count": 1,
     "metadata": {},
     "output_type": "execute_result"
    }
   ],
   "source": [
    "import argparse\n",
    "import matplotlib.pyplot as plt\n",
    "import pandas as pd\n",
    "import torch\n",
    "import torch.utils.data as data_utils\n",
    "import torchvision\n",
    "import seaborn as sns\n",
    "import numpy as np\n",
    "from sklearn import preprocessing\n",
    "from sklearn.model_selection import train_test_split\n",
    "\n",
    "\n",
    "# Gets training data, randomises and seperates into X,Y values.\n",
    "otto = pd.read_csv(\"data/train.csv\").sample(frac=1)\n",
    "ottoX = otto.iloc[:,1:-1]     # remove ID and Label \n",
    "ottoY = otto.iloc[:,-1]\n",
    "\n",
    "\n",
    "# Split data into training and validation set\n",
    "trainX, valX, trainY, valY = train_test_split(ottoX, ottoY, test_size = 0.2)\n",
    "\n",
    "otto.head()"
   ]
  },
  {
   "cell_type": "code",
   "execution_count": 2,
   "metadata": {},
   "outputs": [],
   "source": [
    "# Convert training sets into tensor form with Pytorch functions\n",
    "trainX = torch.from_numpy(trainX.values) \n",
    "valX = torch.from_numpy(valX.values)\n",
    "\n",
    "le = preprocessing.LabelEncoder()\n",
    "le.fit(trainY)\n",
    "trainY = le.transform(trainY)\n",
    "trainY = torch.from_numpy(trainY)\n",
    "\n",
    "le_val = preprocessing.LabelEncoder()\n",
    "le_val.fit(valY)\n",
    "valY = le.transform(valY)\n",
    "valY = torch.from_numpy(valY)\n",
    "\n",
    "trainX, trainY = trainX.type(torch.FloatTensor), trainY.type(torch.FloatTensor)\n",
    "valX, valY = valX.type(torch.FloatTensor), valY.type(torch.FloatTensor)\n",
    "\n",
    "\n",
    "# Load data into DataLoader\n",
    "processed_train_set = data_utils.TensorDataset(trainX, trainY)\n",
    "#processed_val_set = data_utils.TensorDataset(valX, valY)\n",
    "train_loader = data_utils.DataLoader(processed_train_set, batch_size=256, shuffle=True, drop_last=True)\n",
    "#val_loader = data_utils.DataLoader(processed_val_set, batch_size=256, shuffle=True, drop_last=True)"
   ]
  },
  {
   "cell_type": "markdown",
   "metadata": {},
   "source": [
    "Converting features and label into float tensor form to be used with the TensorDataset() function later. \n",
    "\n",
    "The data is split into a training and validation set with 80/20 ratio and then fed into the TensorDataset() function to be converted into a dataset that DataLoader() can take in. \n",
    "\n",
    "Once we get the new training and validation set from TensorDataset() we used DataLoader() to split the data in each set into mini-batches of size 256 each."
   ]
  },
  {
   "cell_type": "markdown",
   "metadata": {},
   "source": [
    "## Multilayered Perceptron Neural Network"
   ]
  },
  {
   "cell_type": "code",
   "execution_count": 3,
   "metadata": {},
   "outputs": [],
   "source": [
    "import torch.nn as nn\n",
    "import torch.nn.functional as F"
   ]
  },
  {
   "cell_type": "code",
   "execution_count": 4,
   "metadata": {},
   "outputs": [],
   "source": [
    "class Net(nn.Module):\n",
    "    def __init__(self, hid, dropout):\n",
    "        super().__init__()\n",
    "        self.fc1 = nn.Linear(93, hid)\n",
    "        self.bn1 = nn.BatchNorm1d(num_features=hid)\n",
    "        self.fc2 = nn.Linear(hid, hid)\n",
    "        self.bn2 = nn.BatchNorm1d(num_features=hid)\n",
    "        self.fc3 = nn.Linear(hid, hid)\n",
    "        self.bn3 = nn.BatchNorm1d(num_features=hid)\n",
    "        self.out = nn.Linear(hid, 9)\n",
    "        self.dropout = nn.Dropout(p=dropout)\n",
    "        \n",
    "    def forward(self, x):\n",
    "        fc1 = self.fc1(x)\n",
    "        bn1 = self.bn1(fc1)\n",
    "        self.hid1 = torch.tanh(bn1)\n",
    "        fc2 = self.dropout(self.hid1)\n",
    "        fc2 = self.fc2(self.hid1)\n",
    "        bn2 = self.bn2(fc2)\n",
    "        self.hid2 = torch.tanh(bn2)\n",
    "        fc2 = self.dropout(self.hid2)\n",
    "        fc3 = self.fc3(self.hid2)\n",
    "        bn3 = self.bn3(fc3)\n",
    "        self.hid3 = torch.tanh(bn3)\n",
    "        res = self.dropout(self.hid3)\n",
    "        out = self.out(res)\n",
    "        return out"
   ]
  },
  {
   "cell_type": "markdown",
   "metadata": {},
   "source": [
    "The neural network consist of 3 hidden layers with each having 64 hidden nodes, an output layer with 9 nodes to represent the number of unique classes and an input layer with 93 nodes that represent the amount of unique features.\n",
    "\n",
    "Note that there is no activation applied to \"out\" above as we will be using the CrossEntropyLoss() function provided by pytorch and by default it will apply log_softmax to calculate the loss.\n",
    "\n",
    "BatchNormalization and Dropout was used in order to prevent the network from training an overfitting model."
   ]
  },
  {
   "cell_type": "code",
   "execution_count": 5,
   "metadata": {},
   "outputs": [],
   "source": [
    "# Custom Loss Function\n",
    "\n",
    "def log_loss(y_pred, y_label, eps=1e-15):\n",
    "    y_label = y_label.view(-1,1).long()\n",
    "    res = torch.gather(y_pred, 1,y_label)\n",
    "    res = torch.clamp(res, eps, 1-eps)\n",
    "    res = -torch.log(res)\n",
    "    res = torch.mean(res)\n",
    "    return res"
   ]
  },
  {
   "cell_type": "code",
   "execution_count": 6,
   "metadata": {},
   "outputs": [],
   "source": [
    "def testAccuracy(net, feat, expected, device):\n",
    "    net.eval() # Set network to evaluation mode\n",
    "    X = feat\n",
    "    y = expected\n",
    "    X = X.to(device)\n",
    "    output = net(X)\n",
    "    \n",
    "    correct, total = 0, 0\n",
    "    for idx, i in enumerate(output):  \n",
    "        if torch.argmax(i) == y[idx]:\n",
    "            correct += 1\n",
    "        total += 1\n",
    "        \n",
    "    accuracy = round(correct/total,3)\n",
    "    return accuracy"
   ]
  },
  {
   "cell_type": "markdown",
   "metadata": {},
   "source": [
    "### Model Training"
   ]
  },
  {
   "cell_type": "code",
   "execution_count": 7,
   "metadata": {},
   "outputs": [
    {
     "name": "stdout",
     "output_type": "stream",
     "text": [
      "Final Result\n",
      "--------------------------------------------------\n",
      "EPOCH:  15\n",
      "Train Loss: 0.4770224094390869, Train Accuracy: 0.824\n",
      "Validation Score:  0.801\n"
     ]
    }
   ],
   "source": [
    "import torch.optim as optim\n",
    "\n",
    "if torch.cuda.is_available():\n",
    "    device = torch.device(\"cuda:0\")\n",
    "else:\n",
    "    device = torch.device(\"cpu\")\n",
    "        \n",
    "\n",
    "def trainNet(epoch, lrate, hidden, dropout):\n",
    "\n",
    "    net = Net(hidden, dropout).to(device)\n",
    "    optimizer = optim.Adam(net.parameters(), lr=lrate)\n",
    "    \n",
    "\n",
    "    EPOCHS = epoch\n",
    "\n",
    "    for epoch in range(EPOCHS):\n",
    "        for data in train_loader:\n",
    "            net.train()\n",
    "            X, y = data\n",
    "            y = y.type(torch.LongTensor)\n",
    "            X, y = X.to(device), y.to(device)\n",
    "            net.zero_grad()\n",
    "            output = net(X)\n",
    "            #res = log_loss(output, y)\n",
    "            loss = nn.CrossEntropyLoss()    \n",
    "            res = loss(output, y)\n",
    "            res.backward()\n",
    "            optimizer.step()\n",
    "\n",
    "        train_loss = res.item()\n",
    "    \n",
    "    return net, train_loss\n",
    "\n",
    "def printResult(model, epoch, train_loss):\n",
    "    train_acc = testAccuracy(model, trainX, trainY, device)\n",
    "    val_acc = testAccuracy(model, valX, valY, device)\n",
    "    print('Final Result')\n",
    "    print('--------------------------------------------------')\n",
    "    print(\"EPOCH: \", epoch)\n",
    "    print(\"Train Loss: {}, Train Accuracy: {}\".format(train_loss, train_acc))\n",
    "    print(\"Validation Score: \", val_acc)\n",
    "\n",
    "net, train_loss = trainNet(15, 0.001, 100, 0.5)\n",
    "printResult(net, 15, train_loss)"
   ]
  },
  {
   "cell_type": "markdown",
   "metadata": {},
   "source": [
    "## Running the Trained Model on the Test Dataset"
   ]
  },
  {
   "cell_type": "code",
   "execution_count": 8,
   "metadata": {},
   "outputs": [
    {
     "data": {
      "text/html": [
       "<div>\n",
       "<style scoped>\n",
       "    .dataframe tbody tr th:only-of-type {\n",
       "        vertical-align: middle;\n",
       "    }\n",
       "\n",
       "    .dataframe tbody tr th {\n",
       "        vertical-align: top;\n",
       "    }\n",
       "\n",
       "    .dataframe thead th {\n",
       "        text-align: right;\n",
       "    }\n",
       "</style>\n",
       "<table border=\"1\" class=\"dataframe\">\n",
       "  <thead>\n",
       "    <tr style=\"text-align: right;\">\n",
       "      <th></th>\n",
       "      <th>id</th>\n",
       "      <th>Class_1</th>\n",
       "      <th>Class_2</th>\n",
       "      <th>Class_3</th>\n",
       "      <th>Class_4</th>\n",
       "      <th>Class_5</th>\n",
       "      <th>Class_6</th>\n",
       "      <th>Class_7</th>\n",
       "      <th>Class_8</th>\n",
       "      <th>Class_9</th>\n",
       "    </tr>\n",
       "  </thead>\n",
       "  <tbody>\n",
       "    <tr>\n",
       "      <th>0</th>\n",
       "      <td>1</td>\n",
       "      <td>0.000345</td>\n",
       "      <td>0.404145</td>\n",
       "      <td>0.478060</td>\n",
       "      <td>0.107099</td>\n",
       "      <td>0.000161</td>\n",
       "      <td>0.000279</td>\n",
       "      <td>0.009310</td>\n",
       "      <td>0.000476</td>\n",
       "      <td>0.000124</td>\n",
       "    </tr>\n",
       "    <tr>\n",
       "      <th>1</th>\n",
       "      <td>2</td>\n",
       "      <td>0.001450</td>\n",
       "      <td>0.000332</td>\n",
       "      <td>0.000187</td>\n",
       "      <td>0.000057</td>\n",
       "      <td>0.000048</td>\n",
       "      <td>0.954782</td>\n",
       "      <td>0.002139</td>\n",
       "      <td>0.039493</td>\n",
       "      <td>0.001510</td>\n",
       "    </tr>\n",
       "    <tr>\n",
       "      <th>2</th>\n",
       "      <td>3</td>\n",
       "      <td>0.000065</td>\n",
       "      <td>0.000004</td>\n",
       "      <td>0.000003</td>\n",
       "      <td>0.000003</td>\n",
       "      <td>0.000005</td>\n",
       "      <td>0.999549</td>\n",
       "      <td>0.000151</td>\n",
       "      <td>0.000160</td>\n",
       "      <td>0.000059</td>\n",
       "    </tr>\n",
       "    <tr>\n",
       "      <th>3</th>\n",
       "      <td>4</td>\n",
       "      <td>0.000039</td>\n",
       "      <td>0.832117</td>\n",
       "      <td>0.161973</td>\n",
       "      <td>0.005200</td>\n",
       "      <td>0.000046</td>\n",
       "      <td>0.000029</td>\n",
       "      <td>0.000205</td>\n",
       "      <td>0.000068</td>\n",
       "      <td>0.000323</td>\n",
       "    </tr>\n",
       "    <tr>\n",
       "      <th>4</th>\n",
       "      <td>5</td>\n",
       "      <td>0.061416</td>\n",
       "      <td>0.000137</td>\n",
       "      <td>0.000152</td>\n",
       "      <td>0.000013</td>\n",
       "      <td>0.000060</td>\n",
       "      <td>0.002587</td>\n",
       "      <td>0.000766</td>\n",
       "      <td>0.026933</td>\n",
       "      <td>0.907935</td>\n",
       "    </tr>\n",
       "  </tbody>\n",
       "</table>\n",
       "</div>"
      ],
      "text/plain": [
       "   id   Class_1   Class_2   Class_3   Class_4   Class_5   Class_6   Class_7  \\\n",
       "0   1  0.000345  0.404145  0.478060  0.107099  0.000161  0.000279  0.009310   \n",
       "1   2  0.001450  0.000332  0.000187  0.000057  0.000048  0.954782  0.002139   \n",
       "2   3  0.000065  0.000004  0.000003  0.000003  0.000005  0.999549  0.000151   \n",
       "3   4  0.000039  0.832117  0.161973  0.005200  0.000046  0.000029  0.000205   \n",
       "4   5  0.061416  0.000137  0.000152  0.000013  0.000060  0.002587  0.000766   \n",
       "\n",
       "    Class_8   Class_9  \n",
       "0  0.000476  0.000124  \n",
       "1  0.039493  0.001510  \n",
       "2  0.000160  0.000059  \n",
       "3  0.000068  0.000323  \n",
       "4  0.026933  0.907935  "
      ]
     },
     "execution_count": 8,
     "metadata": {},
     "output_type": "execute_result"
    }
   ],
   "source": [
    "# Gets test data and separates into X,Y values.\n",
    "test = pd.read_csv(\"data/test.csv\")\n",
    "ids = test.iloc[:, 0]\n",
    "test = test.iloc[:,1:]     # remove ID and Label \n",
    "\n",
    "# Convert test set into tensor form with Pytorch functions\n",
    "test = torch.tensor(test.values) \n",
    "\n",
    "# Convert values to type float\n",
    "test = test.type(torch.FloatTensor)\n",
    "\n",
    "\n",
    "net.eval()\n",
    "with torch.no_grad():\n",
    "    X = test\n",
    "    X = X.to(device)\n",
    "    output = net(X)\n",
    "\n",
    "output = F.softmax(output, dim=1)\n",
    "output = output.to(\"cpu\")\n",
    "output = output.numpy()\n",
    "\n",
    "for x in output:\n",
    "    for i in range(len(x)):\n",
    "        x[i] = x[i].item()\n",
    "\n",
    "\n",
    "test_set = pd.DataFrame(output)\n",
    "\n",
    "for i in range(1, 10):\n",
    "    col = 'Class_' + str(i)\n",
    "    test_set = test_set.rename(columns={i-1: col})\n",
    "\n",
    "test_set.insert(0, 'id', ids)\n",
    "test_set.head()"
   ]
  },
  {
   "cell_type": "code",
   "execution_count": 9,
   "metadata": {},
   "outputs": [],
   "source": [
    "test_set.to_csv('nn_result.csv', index=False)"
   ]
  },
  {
   "cell_type": "markdown",
   "metadata": {},
   "source": [
    "By submitting the results of our test set onto Kaggle, we were able to obtain a public score of 0.51377 and private score of 0.51970 which puts us in position 1550 and 1570 respectively."
   ]
  },
  {
   "cell_type": "markdown",
   "metadata": {},
   "source": [
    "## Hyperparameter Tuning for Performance Difference"
   ]
  },
  {
   "cell_type": "code",
   "execution_count": 10,
   "metadata": {},
   "outputs": [],
   "source": [
    "from scipy.interpolate import UnivariateSpline\n",
    "\n",
    "def plotNet(x, y, x_min, x_max, y_min, y_max, \n",
    "            lin_space, title, x_label, y_label,\n",
    "            desc, best, acc):\n",
    "    plt.axis([x_min, x_max, y_min, y_max])\n",
    "    plt.xlabel(x_label)\n",
    "    plt.ylabel(y_label)\n",
    "    plt.title(title)\n",
    "    \n",
    "    s = UnivariateSpline(x, y, s=5)\n",
    "    xs = np.linspace(0, lin_space, len(x))\n",
    "    ys = s(xs)\n",
    "    plt.scatter(x, y)\n",
    "    plt.plot(xs, ys, color='orange')\n",
    "    plot_min(desc, best, acc)\n",
    "    plt.show()\n",
    "    \n",
    "\n",
    "def plot_min(desc, x, y):\n",
    "    text= \"Best {}={:.2f}, Accuracy={}\".format(desc, x, y)\n",
    "    bbox_props = dict(boxstyle=\"square,pad=0.3\", fc=\"w\", ec=\"k\", lw=0.72)\n",
    "    arrowprops=dict(arrowstyle=\"->\",connectionstyle=\"angle,angleA=0,angleB=60\")\n",
    "    kw = dict(xycoords='data',textcoords=\"axes fraction\", bbox=bbox_props, ha=\"right\", va=\"top\")\n",
    "    plt.annotate(text, xy=(x, y), xytext=(0.94,0.96), **kw)\n",
    "    plt.savefig(\"{}.png\".format(desc))"
   ]
  },
  {
   "cell_type": "markdown",
   "metadata": {},
   "source": [
    "### Dropout vs No Dropout"
   ]
  },
  {
   "cell_type": "code",
   "execution_count": 11,
   "metadata": {},
   "outputs": [],
   "source": [
    "x_dp = []\n",
    "y_dp = []\n",
    "\n",
    "for dp in np.arange(0, 1.0, 0.1):\n",
    "    model, train_loss = trainNet(15, 0.001, 100, dp)\n",
    "    val_acc = testAccuracy(model, valX, valY, device)\n",
    "    x_dp.append(dp)\n",
    "    y_dp.append(round(val_acc, 3))\n",
    "    "
   ]
  },
  {
   "cell_type": "code",
   "execution_count": 12,
   "metadata": {},
   "outputs": [
    {
     "data": {
      "image/png": "[encoded data removed]",
      "text/plain": [
       "<Figure size 432x288 with 1 Axes>"
      ]
     },
     "metadata": {
      "needs_background": "light"
     },
     "output_type": "display_data"
    }
   ],
   "source": [
    "index = y_dp.index(max(y_dp))\n",
    "plotNet(x_dp, y_dp, 0, 1, 0.7, 0.85, 1.0, \n",
    "        \"Hyperparameter Testing: Dropout\", \"Dropout Rate\", \"Accuracy\",\n",
    "        \"Dropout\", x_dp[index], y_dp[index])"
   ]
  },
  {
   "cell_type": "markdown",
   "metadata": {},
   "source": [
    "### Number of Hidden Nodes"
   ]
  },
  {
   "cell_type": "code",
   "execution_count": 13,
   "metadata": {},
   "outputs": [],
   "source": [
    "x_hid = []\n",
    "y_hid = []\n",
    "\n",
    "for hid in np.arange(8, 128, 8):\n",
    "    model, train_loss = trainNet(15, 0.001, hid, 0.5)\n",
    "    val_acc = testAccuracy(model, valX, valY, device)\n",
    "    x_hid.append(hid)\n",
    "    y_hid.append(round(val_acc, 3))\n",
    "    "
   ]
  },
  {
   "cell_type": "code",
   "execution_count": 14,
   "metadata": {},
   "outputs": [
    {
     "data": {
      "image/png": "[encoded data removed]",
      "text/plain": [
       "<Figure size 432x288 with 1 Axes>"
      ]
     },
     "metadata": {
      "needs_background": "light"
     },
     "output_type": "display_data"
    }
   ],
   "source": [
    "index = y_hid.index(max(y_hid))\n",
    "plotNet(x_hid, y_hid, 0, 128, 0.7, 0.85, 128,\n",
    "        \"Hyperparameter Testing: Hidden Nodes\", \"Hidden Nodes\", \"Accuracy\",\n",
    "        \"Hidden Nodes\", x_hid[index], y_hid[index])"
   ]
  },
  {
   "cell_type": "markdown",
   "metadata": {},
   "source": [
    "### Different Learning Rate"
   ]
  },
  {
   "cell_type": "code",
   "execution_count": 15,
   "metadata": {},
   "outputs": [],
   "source": [
    "x_res = []\n",
    "y_res = []\n",
    "\n",
    "# God running this took nearly an hour lol\n",
    "for lr in np.arange(0.001, 0.11, 0.001):\n",
    "    model, train_loss = trainNet(10, lr, 100, 0.5)\n",
    "    val_acc = testAccuracy(model, valX, valY, device)\n",
    "    x_res.append(lr)\n",
    "    y_res.append(round(val_acc, 3))\n",
    "    "
   ]
  },
  {
   "cell_type": "code",
   "execution_count": 16,
   "metadata": {},
   "outputs": [
    {
     "data": {
      "image/png": "[encoded data removed]",
      "text/plain": [
       "<Figure size 432x288 with 1 Axes>"
      ]
     },
     "metadata": {
      "needs_background": "light"
     },
     "output_type": "display_data"
    }
   ],
   "source": [
    "index = y_res.index(max(y_res))\n",
    "plotNet(x_res, y_res, 0, 128, 0.7, 0.85, 128,\n",
    "        \"Hyperparameter Testing: Hidden Nodes\", \"Hidden Nodes\", \"Accuracy\",\n",
    "        \"Hidden Nodes\", x_res[index], y_res[index])"
   ]
  },
  {
   "cell_type": "markdown",
   "metadata": {},
   "source": [
    "## Train Model with Hyperparameters Tuning Results"
   ]
  },
  {
   "cell_type": "code",
   "execution_count": 17,
   "metadata": {},
   "outputs": [
    {
     "name": "stdout",
     "output_type": "stream",
     "text": [
      "Final Result\n",
      "--------------------------------------------------\n",
      "EPOCH:  15\n",
      "Train Loss: 0.5737707614898682, Train Accuracy: 0.831\n",
      "Validation Score:  0.806\n"
     ]
    }
   ],
   "source": [
    "net, train_loss = trainNet(15, 0.002, 96, 0.4)\n",
    "printResult(net, 15, train_loss)"
   ]
  },
  {
   "cell_type": "markdown",
   "metadata": {},
   "source": [
    "## Run Optimized Model on Test Dataset"
   ]
  },
  {
   "cell_type": "code",
   "execution_count": 18,
   "metadata": {},
   "outputs": [
    {
     "data": {
      "text/html": [
       "<div>\n",
       "<style scoped>\n",
       "    .dataframe tbody tr th:only-of-type {\n",
       "        vertical-align: middle;\n",
       "    }\n",
       "\n",
       "    .dataframe tbody tr th {\n",
       "        vertical-align: top;\n",
       "    }\n",
       "\n",
       "    .dataframe thead th {\n",
       "        text-align: right;\n",
       "    }\n",
       "</style>\n",
       "<table border=\"1\" class=\"dataframe\">\n",
       "  <thead>\n",
       "    <tr style=\"text-align: right;\">\n",
       "      <th></th>\n",
       "      <th>id</th>\n",
       "      <th>Class_1</th>\n",
       "      <th>Class_2</th>\n",
       "      <th>Class_3</th>\n",
       "      <th>Class_4</th>\n",
       "      <th>Class_5</th>\n",
       "      <th>Class_6</th>\n",
       "      <th>Class_7</th>\n",
       "      <th>Class_8</th>\n",
       "      <th>Class_9</th>\n",
       "    </tr>\n",
       "  </thead>\n",
       "  <tbody>\n",
       "    <tr>\n",
       "      <th>0</th>\n",
       "      <td>1</td>\n",
       "      <td>0.000207</td>\n",
       "      <td>0.238379</td>\n",
       "      <td>0.174804</td>\n",
       "      <td>0.582687</td>\n",
       "      <td>0.000289</td>\n",
       "      <td>0.000540</td>\n",
       "      <td>0.002944</td>\n",
       "      <td>0.000022</td>\n",
       "      <td>0.000129</td>\n",
       "    </tr>\n",
       "    <tr>\n",
       "      <th>1</th>\n",
       "      <td>2</td>\n",
       "      <td>0.000825</td>\n",
       "      <td>0.000431</td>\n",
       "      <td>0.000141</td>\n",
       "      <td>0.000033</td>\n",
       "      <td>0.000043</td>\n",
       "      <td>0.984253</td>\n",
       "      <td>0.004459</td>\n",
       "      <td>0.008788</td>\n",
       "      <td>0.001028</td>\n",
       "    </tr>\n",
       "    <tr>\n",
       "      <th>2</th>\n",
       "      <td>3</td>\n",
       "      <td>0.000008</td>\n",
       "      <td>0.000005</td>\n",
       "      <td>0.000005</td>\n",
       "      <td>0.000014</td>\n",
       "      <td>0.000002</td>\n",
       "      <td>0.999718</td>\n",
       "      <td>0.000146</td>\n",
       "      <td>0.000077</td>\n",
       "      <td>0.000025</td>\n",
       "    </tr>\n",
       "    <tr>\n",
       "      <th>3</th>\n",
       "      <td>4</td>\n",
       "      <td>0.000132</td>\n",
       "      <td>0.867897</td>\n",
       "      <td>0.112594</td>\n",
       "      <td>0.018837</td>\n",
       "      <td>0.000067</td>\n",
       "      <td>0.000110</td>\n",
       "      <td>0.000194</td>\n",
       "      <td>0.000016</td>\n",
       "      <td>0.000153</td>\n",
       "    </tr>\n",
       "    <tr>\n",
       "      <th>4</th>\n",
       "      <td>5</td>\n",
       "      <td>0.097127</td>\n",
       "      <td>0.000358</td>\n",
       "      <td>0.000165</td>\n",
       "      <td>0.000013</td>\n",
       "      <td>0.000055</td>\n",
       "      <td>0.002886</td>\n",
       "      <td>0.001293</td>\n",
       "      <td>0.051007</td>\n",
       "      <td>0.847095</td>\n",
       "    </tr>\n",
       "  </tbody>\n",
       "</table>\n",
       "</div>"
      ],
      "text/plain": [
       "   id   Class_1   Class_2   Class_3   Class_4   Class_5   Class_6   Class_7  \\\n",
       "0   1  0.000207  0.238379  0.174804  0.582687  0.000289  0.000540  0.002944   \n",
       "1   2  0.000825  0.000431  0.000141  0.000033  0.000043  0.984253  0.004459   \n",
       "2   3  0.000008  0.000005  0.000005  0.000014  0.000002  0.999718  0.000146   \n",
       "3   4  0.000132  0.867897  0.112594  0.018837  0.000067  0.000110  0.000194   \n",
       "4   5  0.097127  0.000358  0.000165  0.000013  0.000055  0.002886  0.001293   \n",
       "\n",
       "    Class_8   Class_9  \n",
       "0  0.000022  0.000129  \n",
       "1  0.008788  0.001028  \n",
       "2  0.000077  0.000025  \n",
       "3  0.000016  0.000153  \n",
       "4  0.051007  0.847095  "
      ]
     },
     "execution_count": 18,
     "metadata": {},
     "output_type": "execute_result"
    }
   ],
   "source": [
    "net.eval()\n",
    "with torch.no_grad():\n",
    "    X = test\n",
    "    X = X.to(device)\n",
    "    output = net(X)\n",
    "\n",
    "output = F.softmax(output, dim=1)\n",
    "output = output.to(\"cpu\")\n",
    "output = output.numpy()\n",
    "\n",
    "for x in output:\n",
    "    for i in range(len(x)):\n",
    "        x[i] = x[i].item()\n",
    "\n",
    "\n",
    "test_set = pd.DataFrame(output)\n",
    "\n",
    "for i in range(1, 10):\n",
    "    col = 'Class_' + str(i)\n",
    "    test_set = test_set.rename(columns={i-1: col})\n",
    "\n",
    "test_set.insert(0, 'id', ids)\n",
    "test_set.head()"
   ]
  },
  {
   "cell_type": "code",
   "execution_count": 19,
   "metadata": {},
   "outputs": [],
   "source": [
    "test_set.to_csv('nn_optimized.csv', index=False)"
   ]
  }
 ],
 "metadata": {
  "kernelspec": {
   "display_name": "Python 3",
   "language": "python",
   "name": "python3"
  },
  "language_info": {
   "codemirror_mode": {
    "name": "ipython",
    "version": 3
   },
   "file_extension": ".py",
   "mimetype": "text/x-python",
   "name": "python",
   "nbconvert_exporter": "python",
   "pygments_lexer": "ipython3",
   "version": "3.7.7"
  }
 },
 "nbformat": 4,
 "nbformat_minor": 4
}
